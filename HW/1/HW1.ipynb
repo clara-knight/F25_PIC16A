{
 "cells": [
  {
   "cell_type": "code",
   "execution_count": 203,
   "id": "4e924d12-f68d-4c8f-92b6-c8ace95fb29f",
   "metadata": {},
   "outputs": [],
   "source": [
    "L1 = [1, 2, 3, 4]\n",
    "L2 = [1, 2, 3, 4]\n",
    "M = [1, 2, 3, 'A', 'B']"
   ]
  },
  {
   "cell_type": "code",
   "execution_count": 204,
   "id": "7ae059ce-d48b-4012-95c1-7d20174d661b",
   "metadata": {},
   "outputs": [
    {
     "name": "stdout",
     "output_type": "stream",
     "text": [
      "True\n",
      "False\n"
     ]
    }
   ],
   "source": [
    "def check_same(L, M):\n",
    "    if len(L) != len(M):\n",
    "        return False\n",
    "    else:\n",
    "        for i in range(len(L)):\n",
    "            if L[i] != M[i]:\n",
    "                return False\n",
    "        return True\n",
    "\n",
    "print(check_same(L1, L2))\n",
    "print(check_same(L2, M))"
   ]
  },
  {
   "cell_type": "code",
   "execution_count": 196,
   "id": "2fa7e23b-cf1d-488d-ab6c-e9c2f0c44b63",
   "metadata": {},
   "outputs": [
    {
     "name": "stdout",
     "output_type": "stream",
     "text": [
      "[0, 1, -1, 1, 1]\n",
      "[0, 0, 0, 1, 0, -1]\n"
     ]
    }
   ],
   "source": [
    "def compare_val_w_idx(L):\n",
    "    M = []\n",
    "    for i in range(len(L)):\n",
    "        if i > L[i]:\n",
    "            M.append(-1)\n",
    "        elif i == L[i]:\n",
    "            M.append(0)\n",
    "        else:\n",
    "            M.append(1)\n",
    "    return M\n",
    "\n",
    "print(compare_val_w_idx([0, 2, 1, 5, 5]))\n",
    "print(compare_val_w_idx([0, 1, 2, 4, 4, 3]))\n"
   ]
  },
  {
   "cell_type": "code",
   "execution_count": 197,
   "id": "6b4cc5d3-2d30-433b-a674-171d412b4de7",
   "metadata": {},
   "outputs": [
    {
     "name": "stdout",
     "output_type": "stream",
     "text": [
      "[1, 1, 0, -1]\n"
     ]
    }
   ],
   "source": [
    "def compare_val_w_idx_noret(L):\n",
    "    for i in range(len(L)):\n",
    "        if i > L[i]:\n",
    "            L[i] = -1\n",
    "        elif i == L[i]:\n",
    "            L[i] = 0\n",
    "        else:\n",
    "            L[i] = 1\n",
    "\n",
    "compare_val_w_idx_noret(L1)\n",
    "print(L1)"
   ]
  },
  {
   "cell_type": "code",
   "execution_count": 200,
   "id": "031fe317-ab51-492d-8d30-f0f51f5785e3",
   "metadata": {},
   "outputs": [
    {
     "name": "stdout",
     "output_type": "stream",
     "text": [
      "{'m': 2, 'a': 2, 't': 2, 'h': 1, 'e': 1, 'i': 1, 'c': 1, 's': 1}\n"
     ]
    }
   ],
   "source": [
    "def count_characters(s):\n",
    "    s_chars = {}\n",
    "    for char in s:\n",
    "        char = char.lower()\n",
    "        if char not in s_chars:\n",
    "            s_chars[char] = 1\n",
    "        else:\n",
    "            s_chars[char] += 1\n",
    "    return s_chars\n",
    "\n",
    "print(count_characters('MAthematics'))"
   ]
  },
  {
   "cell_type": "code",
   "execution_count": 201,
   "id": "446eea4c-53c1-4c4d-84c9-61eee98477f8",
   "metadata": {},
   "outputs": [
    {
     "name": "stdout",
     "output_type": "stream",
     "text": [
      "[2, 3, 5, 7]\n"
     ]
    }
   ],
   "source": [
    "def find_primes(k):\n",
    "    primes = []\n",
    "    for i in range(2, k+1):\n",
    "        for j in range(2, i):\n",
    "            if not (i%j):\n",
    "                break\n",
    "        else:\n",
    "            primes.append(i)\n",
    "    return primes\n",
    "\n",
    "print(find_primes(10))"
   ]
  }
 ],
 "metadata": {
  "kernelspec": {
   "display_name": "Python 3 (ipykernel)",
   "language": "python",
   "name": "python3"
  },
  "language_info": {
   "codemirror_mode": {
    "name": "ipython",
    "version": 3
   },
   "file_extension": ".py",
   "mimetype": "text/x-python",
   "name": "python",
   "nbconvert_exporter": "python",
   "pygments_lexer": "ipython3",
   "version": "3.13.5"
  }
 },
 "nbformat": 4,
 "nbformat_minor": 5
}
